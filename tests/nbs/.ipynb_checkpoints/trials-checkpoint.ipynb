{
 "cells": [
  {
   "cell_type": "code",
   "execution_count": 5,
   "metadata": {},
   "outputs": [
    {
     "data": {
      "text/html": [
       "\n",
       "    <style>\n",
       "    body { font-feature-settings: \"liga\" 0; font-weight: 400;}\n",
       "    .cm-s-jupyter span.cm-keyword { font-weight: normal };\n",
       "    .cm-s-jupyter .CodeMirror-gutter { background-color: #ffffff; };\n",
       "    .cm-s-jupyter .CodeMirror-activeline-background { background-color: #e0e0e0; }\n",
       "    </style>\n"
      ],
      "text/plain": [
       "<IPython.core.display.HTML object>"
      ]
     },
     "execution_count": 5,
     "metadata": {},
     "output_type": "execute_result"
    }
   ],
   "source": [
    "from IPython.core.display import HTML\n",
    "HTML(\"\"\"\n",
    "    <style>\n",
    "    body { font-feature-settings: \"liga\" 0; font-weight: 400;}\n",
    "    .cm-s-jupyter span.cm-keyword { font-weight: normal };\n",
    "    .cm-s-jupyter .CodeMirror-gutter { background-color: #ffffff; };\n",
    "    .cm-s-jupyter .CodeMirror-activeline-background { background-color: #e0e0e0; }\n",
    "    </style>\n",
    "\"\"\")"
   ]
  },
  {
   "cell_type": "code",
   "execution_count": 3,
   "metadata": {},
   "outputs": [],
   "source": [
    "from pathlib import Path\n",
    "import imagehash\n",
    "import h5py\n",
    "from PIL import Image\n",
    "import os\n",
    "import sys\n",
    "%matplotlib inline"
   ]
  },
  {
   "cell_type": "code",
   "execution_count": 4,
   "metadata": {},
   "outputs": [],
   "source": [
    "# Configurable parameter\n",
    "HEIGHT=128\n",
    "WIDTH=128\n",
    "\n",
    "class ImageLookupTable(object):\n",
    "    def __init__(self, lookuptable=None, generate=False, imagefolder=None, hashing=imagehash.average_hash):\n",
    "        # Need the lookup table for sure\n",
    "        assert(lookuptable != None)\n",
    "        self.lktablepath = Path(lookuptable)\n",
    "        #self.lktablename = self.lktablepath.name\n",
    "        self.imgnamelist = []\n",
    "        self.hashalgo = hashing\n",
    "        _isfilepresent = Path(lookuptable).exists()\n",
    "        if _isfilepresent:\n",
    "            print(f\"lookup table present at: [{self.lktablepath}]\")\n",
    "        else:\n",
    "            if generate:\n",
    "                try:\n",
    "                    assert(imagefolder != None)\n",
    "                    self.imgfolder = Path(imagefolder)\n",
    "                    self.imglist = list(self.imgfolder.glob(\"**/*.png\"))\n",
    "                    self._createlookuptable()\n",
    "                except AssertionError:\n",
    "                    sys.exit(\"pass on the imagefolder path\")\n",
    "            else:\n",
    "                print(\"ERROR: table does not exist, do you want to generate it? pass argument generate=True with imagefolder=<path>\")\n",
    "                return\n",
    "            \n",
    "    def additem(key):\n",
    "        pass\n",
    "    \n",
    "    def removeitem(key):\n",
    "        pass\n",
    "\n",
    "    def isitem(key):\n",
    "        pass\n",
    "\n",
    "    #TODO: complete this function. \n",
    "    def getitem(self, key):\n",
    "        with h5py.File(self.lktablepath, 'r') as h5file:\n",
    "            array = h5file[str(key)][:]\n",
    "            pilimage = Image.fromarray(array.astype('uint8'), 'RGB')\n",
    "            imagename = h5file[str(key)]\n",
    "            return imagename, pilimage\n",
    "\n",
    "    def _createlookuptable(self): \n",
    "        try:\n",
    "            self.lktablepath.unlink(missing_ok=True)\n",
    "            with h5py.File(self.lktablepath, 'a') as h5file:\n",
    "                for image in self.imglist:\n",
    "                    imagename = image.name[:-4]\n",
    "                    pilimage = Image.open(image)\n",
    "                    imghashvalue = self.hashalgo(pilimage)\n",
    "                    print(f\"imagename: [{imagename}], imagehash: [{imghashvalue}]\")\n",
    "                    h5file.create_dataset(f\"{imagename}\", data=pilimage, dtype='uint8', shape=(HEIGHT, WIDTH, 3))\n",
    "                    h5file[f\"{imagename}\"].attrs.create(name=f\"{imagename}\", data=str(imghashvalue))        \n",
    "                    self.imgnamelist.append(imagename)\n",
    "        except IOError:\n",
    "            print(\"ERROR: lookup table is already opened. try to open it in the same mode\")"
   ]
  },
  {
   "cell_type": "code",
   "execution_count": 5,
   "metadata": {},
   "outputs": [
    {
     "name": "stdout",
     "output_type": "stream",
     "text": [
      "lookup table present at: [../data/lookuptable.h5]\n"
     ]
    }
   ],
   "source": [
    "IMAGEFOLDER = '../data/images/smalldata'\n",
    "LOOKUPTABLEPATH = '../data/lookuptable.h5'\n",
    "lktable = ImageLookupTable(lookuptable=LOOKUPTABLEPATH, generate=True, imagefolder=IMAGEFOLDER)"
   ]
  },
  {
   "cell_type": "code",
   "execution_count": 6,
   "metadata": {},
   "outputs": [
    {
     "name": "stdout",
     "output_type": "stream",
     "text": [
      "<HDF5 file \"lookuptable.h5\" (mode r)>\n"
     ]
    }
   ],
   "source": [
    "name, image = lktable.getitem('00135')"
   ]
  },
  {
   "cell_type": "code",
   "execution_count": null,
   "metadata": {},
   "outputs": [],
   "source": []
  }
 ],
 "metadata": {
  "kernelspec": {
   "display_name": "Python 3",
   "language": "python",
   "name": "python3"
  },
  "language_info": {
   "codemirror_mode": {
    "name": "ipython",
    "version": 3
   },
   "file_extension": ".py",
   "mimetype": "text/x-python",
   "name": "python",
   "nbconvert_exporter": "python",
   "pygments_lexer": "ipython3",
   "version": "3.8.5"
  }
 },
 "nbformat": 4,
 "nbformat_minor": 4
}
