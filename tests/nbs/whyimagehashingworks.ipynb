{
 "cells": [
  {
   "cell_type": "code",
   "execution_count": 6,
   "metadata": {},
   "outputs": [
    {
     "data": {
      "text/html": [
       "\n",
       "    <style>\n",
       "    body { font-feature-settings: \"liga\" 0; font-weight: 400;}\n",
       "    .cm-s-jupyter span.cm-keyword { font-weight: normal };\n",
       "    .cm-s-jupyter .CodeMirror-gutter { background-color: #ffffff; };\n",
       "    .cm-s-jupyter .CodeMirror-activeline-background { background-color: #e0e0e0; }\n",
       "    </style>\n"
      ],
      "text/plain": [
       "<IPython.core.display.HTML object>"
      ]
     },
     "execution_count": 6,
     "metadata": {},
     "output_type": "execute_result"
    }
   ],
   "source": [
    "from IPython.core.display import HTML\n",
    "HTML(\"\"\"\n",
    "    <style>\n",
    "    body { font-feature-settings: \"liga\" 0; font-weight: 400;}\n",
    "    .cm-s-jupyter span.cm-keyword { font-weight: normal };\n",
    "    .cm-s-jupyter .CodeMirror-gutter { background-color: #ffffff; };\n",
    "    .cm-s-jupyter .CodeMirror-activeline-background { background-color: #e0e0e0; }\n",
    "    </style>\n",
    "\"\"\")"
   ]
  },
  {
   "cell_type": "code",
   "execution_count": 7,
   "metadata": {},
   "outputs": [],
   "source": [
    "import numpy as np\n",
    "import matplotlib.pyplot as plt\n",
    "from pathlib import Path\n",
    "import sys\n",
    "import traceback"
   ]
  },
  {
   "cell_type": "code",
   "execution_count": null,
   "metadata": {},
   "outputs": [],
   "source": []
  }
 ],
 "metadata": {
  "kernelspec": {
   "display_name": "Python 3",
   "language": "python",
   "name": "python3"
  },
  "language_info": {
   "codemirror_mode": {
    "name": "ipython",
    "version": 3
   },
   "file_extension": ".py",
   "mimetype": "text/x-python",
   "name": "python",
   "nbconvert_exporter": "python",
   "pygments_lexer": "ipython3",
   "version": "3.8.5"
  }
 },
 "nbformat": 4,
 "nbformat_minor": 4
}
